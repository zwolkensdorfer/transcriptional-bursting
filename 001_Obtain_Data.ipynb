{
 "cells": [
  {
   "cell_type": "code",
   "execution_count": 2,
   "metadata": {},
   "outputs": [],
   "source": [
    "import re\n",
    "import urllib\n",
    "from zipfile import ZipFile\n",
    "from pathlib import Path\n",
    "import os\n",
    "\n",
    "import anndata\n",
    "import numpy as np\n",
    "import scipy\n",
    "import scipy.sparse"
   ]
  },
  {
   "cell_type": "markdown",
   "metadata": {},
   "source": [
    "Download sc-variability-paper scripts written by Norton (2020)"
   ]
  },
  {
   "cell_type": "code",
   "execution_count": 17,
   "metadata": {},
   "outputs": [
    {
     "name": "stdout",
     "output_type": "stream",
     "text": [
      "sc-variability scripts downloaded\n"
     ]
    }
   ],
   "source": [
    "rp2_scripts = (\"__init__.py\", \"analysis.py\", \"data.py\", \"environment.py\", \"hagai_2018.py\", \"notebooks.py\",\n",
    "              \"paths.py\", \"processing.py\", \"regression.py\", \"txburst.py\", \"ui.py\")\n",
    "\n",
    "def make_rp2_path(filename):\n",
    "    \n",
    "    cwd = os.getcwd()\n",
    "    if not os.path.exists(f\"{cwd}\\\\rp2\"):\n",
    "        os.makedirs(f\"{cwd}\\\\rp2\")\n",
    "        \n",
    "    rp2_path = os.path.join(\"rp2\", filename)\n",
    "    \n",
    "    return rp2_path\n",
    "\n",
    "for filename in rp2_scripts:\n",
    "    path = make_rp2_path(filename)\n",
    "    url = f\"https://raw.githubusercontent.com/dwnorton/sc-variability-paper/master/rp2/{filename}\"\n",
    "    urllib.request.urlretrieve(url, path)\n",
    "    \n",
    "print(\"sc-variability scripts downloaded\")"
   ]
  },
  {
   "cell_type": "code",
   "execution_count": 11,
   "metadata": {},
   "outputs": [
    {
     "name": "stdout",
     "output_type": "stream",
     "text": [
      "Burst_Model_Fitting notebook downloaded.\n"
     ]
    }
   ],
   "source": [
    "burst_model_fitting_nb = \"003_Burst_Model_Fitting.ipynb\"\n",
    "\n",
    "cwd = os.getcwd()\n",
    "nb_path = os.path.join(cwd, burst_model_fitting_nb)\n",
    "nb_url = \"https://raw.githubusercontent.com/dwnorton/sc-variability-paper/master/002_Burst_Model_Fitting.ipynb\"\n",
    "urllib.request.urlretrieve(nb_url, nb_path)\n",
    "print(\"Burst_Model_Fitting notebook downloaded.\")"
   ]
  },
  {
   "cell_type": "code",
   "execution_count": 8,
   "metadata": {},
   "outputs": [],
   "source": [
    "from rp2 import fetch_file, notebooks\n",
    "from rp2.paths import get_data_path, get_scripts_path, get_model_path\n",
    "\n",
    "nb_env = notebooks.initialise_environment(\"Obtain_Data\")"
   ]
  },
  {
   "cell_type": "code",
   "execution_count": 14,
   "metadata": {},
   "outputs": [],
   "source": [
    "ppfit_model_path = get_model_path(\"ppfit\")\n",
    "fetch_file(\n",
    "    \"https://raw.githubusercontent.com/dwnorton/sc-variability-paper/master/Models/ppfit/species%3Dmouse-counts%3Dmedian-index%3Dreplicate%2Btreatment%2Btime_point.csv\",\n",
    "    ppfit_model_path,\n",
    ");\n",
    "\n",
    "os.rename(f\"{ppfit_model_path}\\\\species%3Dmouse-counts%3Dmedian-index%3Dreplicate%2Btreatment%2Btime_point.csv\",\n",
    "          f\"{ppfit_model_path}\\\\species=mouse-counts=median-index=replicate+treatment+time_point.csv\")"
   ]
  },
  {
   "cell_type": "code",
   "execution_count": 15,
   "metadata": {},
   "outputs": [],
   "source": [
    "txburst_model_path = get_model_path(\"txburst\")\n",
    "fetch_file(\n",
    "    \"https://raw.githubusercontent.com/dwnorton/sc-variability-paper/master/Models/txburst/species%3Dmouse-counts%3Dmedian-index%3Dreplicate%2Btreatment%2Btime_point.csv\",\n",
    "    txburst_model_path\n",
    ");\n",
    "\n",
    "fetch_file(\n",
    "    \"https://raw.githubusercontent.com/dwnorton/sc-variability-paper/master/Models/txburst/species%3Dmouse-counts%3Dumi-index%3Dreplicate%2Btreatment%2Btime_point.csv\",\n",
    "    txburst_model_path\n",
    ");\n",
    "\n",
    "fetch_file(\n",
    "    \"https://raw.githubusercontent.com/dwnorton/sc-variability-paper/master/Models/txburst/species%3Dpig-counts%3Dmedian-index%3Dreplicate%2Btreatment%2Btime_point.csv\",\n",
    "    txburst_model_path\n",
    ");\n",
    "\n",
    "fetch_file(\n",
    "    \"https://raw.githubusercontent.com/dwnorton/sc-variability-paper/master/Models/txburst/species%3Drabbit-counts%3Dmedian-index%3Dreplicate%2Btreatment%2Btime_point.csv\",\n",
    "    txburst_model_path\n",
    ");\n",
    "\n",
    "fetch_file(\n",
    "    \"https://raw.githubusercontent.com/dwnorton/sc-variability-paper/master/Models/txburst/species%3Drat-counts%3Dmedian-index%3Dreplicate%2Btreatment%2Btime_point.csv\",\n",
    "    txburst_model_path\n",
    ");"
   ]
  },
  {
   "cell_type": "code",
   "execution_count": 16,
   "metadata": {},
   "outputs": [],
   "source": [
    "os.rename(f\"{txburst_model_path}\\\\species%3Dmouse-counts%3Dmedian-index%3Dreplicate%2Btreatment%2Btime_point.csv\",\n",
    "         f\"{txburst_model_path}\\\\species=mouse-counts=median-index=replicate+treatment+time_point.csv\")\n",
    "\n",
    "os.rename(f\"{txburst_model_path}\\\\species%3Dmouse-counts%3Dumi-index%3Dreplicate%2Btreatment%2Btime_point.csv\",\n",
    "         f\"{txburst_model_path}\\\\species=mouse-counts=umi-index=replicate+treatment+time_point.csv\")\n",
    "\n",
    "os.rename(f\"{txburst_model_path}\\\\species%3Dpig-counts%3Dmedian-index%3Dreplicate%2Btreatment%2Btime_point.csv\",\n",
    "         f\"{txburst_model_path}\\\\species=pig-counts=median-index=replicate+treatment+time_point.csv\")\n",
    "\n",
    "os.rename(f\"{txburst_model_path}\\\\species%3Drabbit-counts%3Dmedian-index%3Dreplicate%2Btreatment%2Btime_point.csv\",\n",
    "         f\"{txburst_model_path}\\\\species=rabbit-counts=median-index=replicate+treatment+time_point.csv\")\n",
    "\n",
    "os.rename(f\"{txburst_model_path}\\\\species%3Drat-counts%3Dmedian-index%3Dreplicate%2Btreatment%2Btime_point.csv\",\n",
    "         f\"{txburst_model_path}\\\\species=rat-counts=median-index=replicate+treatment+time_point.csv\")"
   ]
  },
  {
   "cell_type": "code",
   "execution_count": 17,
   "metadata": {},
   "outputs": [],
   "source": [
    "hagai_path = get_data_path(\"hagai_2018\")\n",
    "fetch_file(\n",
    "    \"https://raw.githubusercontent.com/dwnorton/sc-variability-paper/master/Data/RP2/analysis_genes.csv\",\n",
    "    hagai_path\n",
    ");"
   ]
  },
  {
   "cell_type": "markdown",
   "metadata": {},
   "source": [
    "Download supplementary data for Hagai *et al.* (2018)"
   ]
  },
  {
   "cell_type": "code",
   "execution_count": 5,
   "metadata": {},
   "outputs": [],
   "source": [
    "fetch_file(\n",
    "    \"https://static-content.springer.com/esm/art%3A10.1038%2Fs41586-018-0657-2/MediaObjects/41586_2018_657_MOESM4_ESM.xlsx\",\n",
    "    hagai_path\n",
    ");"
   ]
  },
  {
   "cell_type": "markdown",
   "metadata": {},
   "source": [
    "Download Hagai *et al.* (2018) datasets from ArrayExpress"
   ]
  },
  {
   "cell_type": "code",
   "execution_count": 6,
   "metadata": {},
   "outputs": [],
   "source": [
    "ae_path = get_data_path(\"ArrayExpress\")\n",
    "fetch_file(\n",
    "    \"https://www.ebi.ac.uk/arrayexpress/files/E-MTAB-6754/E-MTAB-6754.processed.2.zip\",\n",
    "    ae_path\n",
    ");"
   ]
  },
  {
   "cell_type": "markdown",
   "metadata": {},
   "source": [
    "Extract zipped ArrayExpress datasets"
   ]
  },
  {
   "cell_type": "code",
   "execution_count": 7,
   "metadata": {},
   "outputs": [
    {
     "name": "stdout",
     "output_type": "stream",
     "text": [
      "Extracting: C:\\Users\\wolke\\Documents\\Code\\Data\\ArrayExpress\\E-MTAB-6754.processed.2.zip\n"
     ]
    }
   ],
   "source": [
    "for zip_path in ae_path.glob(\"*.zip\"):\n",
    "    extract_path = ae_path.joinpath(zip_path.stem)\n",
    "    if extract_path.exists():\n",
    "        continue\n",
    "\n",
    "    print(\"Extracting:\", zip_path)\n",
    "\n",
    "    with ZipFile(zip_path, \"r\") as zip_file:\n",
    "        zip_file.extractall(extract_path)"
   ]
  },
  {
   "cell_type": "markdown",
   "metadata": {},
   "source": [
    "Download txburst scripts for Larsson *et al.* (2019) burst modelling"
   ]
  },
  {
   "cell_type": "code",
   "execution_count": 8,
   "metadata": {},
   "outputs": [],
   "source": [
    "txburst_filenames = (\n",
    "    \"txburstML.py\",\n",
    "    \"txburstPL.py\",\n",
    "    \"txburstTEST.py\",\n",
    ")\n",
    "\n",
    "txburst_path = get_scripts_path(\"txburst\")\n",
    "\n",
    "for filename in txburst_filenames:\n",
    "    url = f\"https://raw.githubusercontent.com/sandberg-lab/txburst/master/{filename}\"\n",
    "    fetch_file(url, txburst_path)"
   ]
  },
  {
   "cell_type": "markdown",
   "metadata": {},
   "source": [
    "Collate Hagai *et al.* (2018) UMI counts into a single dataframe"
   ]
  },
  {
   "cell_type": "code",
   "execution_count": 6,
   "metadata": {},
   "outputs": [],
   "source": [
    "def extract_species_and_replicate(token):\n",
    "    return token[:-1], token[-1]\n",
    "\n",
    "\n",
    "def extract_treatment_and_time_point(token):\n",
    "    matches = re.match(r\"^([a-z]+)(\\d*[^\\d]*)$\", token)\n",
    "    return matches.group(1), matches.group(2) or \"0\"\n",
    "\n",
    "\n",
    "def load_umi_count_adata(file_path):\n",
    "    species_and_replicate, treatment_and_time_point = file_path.name.split(\"_\")[:2]\n",
    "    species, replicate = extract_species_and_replicate(species_and_replicate)\n",
    "    treatment, time_point = extract_treatment_and_time_point(treatment_and_time_point)\n",
    "\n",
    "    umi_ad = anndata.read_csv(file_path, delimiter=\" \").T\n",
    "    umi_ad.X = scipy.sparse.csr_matrix(umi_ad.X, dtype=np.int)\n",
    "\n",
    "    umi_ad.obs[\"species\"] = species\n",
    "    umi_ad.obs[\"replicate\"] = replicate\n",
    "    umi_ad.obs[\"treatment\"] = treatment\n",
    "    umi_ad.obs[\"time_point\"] = time_point\n",
    "    umi_ad.obs[\"barcode\"] = umi_ad.obs.index\n",
    "\n",
    "    return umi_ad\n",
    "\n",
    "\n",
    "def collate_umi_counts(csv_file_paths):\n",
    "    total_obs = 0\n",
    "    all_adata = []\n",
    "\n",
    "    for file_path in csv_file_paths:\n",
    "        print(\"Loading\", file_path.name)\n",
    "\n",
    "        csv_adata = load_umi_count_adata(file_path)\n",
    "        csv_adata.obs.index = [str(i) for i in range(total_obs, total_obs + csv_adata.n_obs)]\n",
    "\n",
    "        all_adata.append(csv_adata)\n",
    "\n",
    "        total_obs += csv_adata.n_obs\n",
    "\n",
    "    print(\"Collating\")\n",
    "\n",
    "    adata = all_adata[0].concatenate(all_adata[1:], join=\"outer\", index_unique=None)\n",
    "    adata.obs.drop(columns=[\"batch\"], inplace=True)\n",
    "    return adata"
   ]
  },
  {
   "cell_type": "code",
   "execution_count": 7,
   "metadata": {},
   "outputs": [
    {
     "name": "stdout",
     "output_type": "stream",
     "text": [
      "Loading rat1_lps2_filtered_by_cell_cluster0.txt.gz\n",
      "Loading rat1_lps4_filtered_by_cell_cluster0.txt.gz\n",
      "Loading rat1_lps6_filtered_by_cell_cluster0.txt.gz\n",
      "Loading rat1_pic2_filtered_by_cell_cluster0.txt.gz\n",
      "Loading rat1_pic4_filtered_by_cell_cluster0.txt.gz\n",
      "Loading rat1_pic6_filtered_by_cell_cluster0.txt.gz\n",
      "Loading rat1_unst_filtered_by_cell_cluster0.txt.gz\n",
      "Loading rat2_lps2_filtered_by_cell_cluster0.txt.gz\n",
      "Loading rat2_lps4_filtered_by_cell_cluster0.txt.gz\n",
      "Loading rat2_lps6_filtered_by_cell_cluster0.txt.gz\n",
      "Loading rat2_pic2_filtered_by_cell_cluster0.txt.gz\n",
      "Loading rat2_pic4_filtered_by_cell_cluster0.txt.gz\n",
      "Loading rat2_pic6_filtered_by_cell_cluster0.txt.gz\n",
      "Loading rat2_unst_filtered_by_cell_cluster0.txt.gz\n",
      "Loading rat3_lps2_filtered_by_cell_cluster0.txt.gz\n",
      "Loading rat3_lps4_filtered_by_cell_cluster0.txt.gz\n",
      "Loading rat3_lps6_filtered_by_cell_cluster0.txt.gz\n",
      "Loading rat3_pic2_filtered_by_cell_cluster0.txt.gz\n",
      "Loading rat3_pic4_filtered_by_cell_cluster0.txt.gz\n",
      "Loading rat3_pic6_filtered_by_cell_cluster0.txt.gz\n",
      "Loading rat3_unst_filtered_by_cell_cluster0.txt.gz\n",
      "Collating\n"
     ]
    },
    {
     "name": "stderr",
     "output_type": "stream",
     "text": [
      "... storing 'species' as categorical\n",
      "... storing 'replicate' as categorical\n",
      "... storing 'treatment' as categorical\n",
      "... storing 'time_point' as categorical\n",
      "... storing 'barcode' as categorical\n"
     ]
    }
   ],
   "source": [
    "species_id_map = {\n",
    "    \"mouse\": \"mmusculus\",\n",
    "    \"pig\": \"sscrofa\",\n",
    "    \"rabbit\": \"ocuniculus\",\n",
    "    \"rat\": \"rnorvegicus\",\n",
    "}\n",
    "\n",
    "species_of_interest = species_id_map.keys()\n",
    "\n",
    "umi_files_path = ae_path.joinpath(\"E-MTAB-6754.processed.2\")\n",
    "\n",
    "for species in species_of_interest:\n",
    "    umi_file_path = umi_files_path.parent.joinpath(umi_files_path.name + f\".{species}.h5ad\")\n",
    "\n",
    "    if not umi_file_path.exists():\n",
    "        csv_glob = umi_files_path.glob(f\"{species}*.txt.gz\")\n",
    "        adata = collate_umi_counts(csv_glob)\n",
    "        adata.write_h5ad(umi_file_path)"
   ]
  },
  {
   "cell_type": "markdown",
   "metadata": {},
   "source": [
    "Download a list of mouse genes (Ensembl ID, symbol and description) from BioMart"
   ]
  },
  {
   "cell_type": "code",
   "execution_count": 19,
   "metadata": {},
   "outputs": [
    {
     "name": "stdout",
     "output_type": "stream",
     "text": [
      "All done\n"
     ]
    }
   ],
   "source": [
    "def make_biomart_genes_query_xml(species_id):\n",
    "    return '<?xml version=\"1.0\" encoding=\"UTF-8\"?>' \\\n",
    "           '<!DOCTYPE Query>' \\\n",
    "           '<Query virtualSchemaName=\"default\" formatter=\"TSV\" header=\"0\" uniqueRows=\"1\" count=\"\" datasetConfigVersion=\"0.6\">' \\\n",
    "           f'<Dataset name=\"{species_id}_gene_ensembl\" interface=\"default\">' \\\n",
    "           '<Attribute name=\"ensembl_gene_id\" />' \\\n",
    "           '<Attribute name=\"external_gene_name\" />' \\\n",
    "           '<Attribute name=\"description\" />' \\\n",
    "           '</Dataset>' \\\n",
    "           '</Query>'\n",
    "\n",
    "\n",
    "def make_biomart_query_url(query_xml):\n",
    "    return \"http://mar2016.archive.ensembl.org/biomart/martservice?query=\" + urllib.parse.quote(query_xml)\n",
    "\n",
    "\n",
    "def make_biomart_genes_query_url(species_id):\n",
    "    biomart_query = make_biomart_genes_query_xml(species_id)\n",
    "    return \"http://mar2016.archive.ensembl.org/biomart/martservice?query=\" + urllib.parse.quote(biomart_query)\n",
    "\n",
    "def make_biomart_mouse_orthologues_query_url():\n",
    "    mouse_query_xml = '<?xml version=\"1.0\" encoding=\"UTF-8\"?>' \\\n",
    "                '<!DOCTYPE Query>' \\\n",
    "                '<Query  virtualSchemaName = \"default\" formatter = \"TSV\" header = \"0\" uniqueRows = \"1\" count = \"\" datasetConfigVersion = \"0.6\" >' \\\n",
    "                '<Dataset name = \"mmusculus_gene_ensembl\" interface = \"default\">' \\\n",
    "                '<Attribute name = \"ensembl_gene_id\" />' \\\n",
    "                '<Attribute name = \"sscrofa_homolog_ensembl_gene\" />' \\\n",
    "                '<Attribute name = \"ocuniculus_homolog_ensembl_gene\" />' \\\n",
    "                '<Attribute name = \"rnorvegicus_homolog_ensembl_gene\" />' \\\n",
    "                '</Dataset>' \\\n",
    "                '</Query>'\n",
    "    return make_biomart_query_url(mouse_query_xml)\n",
    "\n",
    "def make_biomart_rat_orthologues_query_url():\n",
    "    rat_query_xml = '<?xml version=\"1.0\" encoding=\"UTF-8\"?>' \\\n",
    "                    '<!DOCTYPE Query>' \\\n",
    "                    '<Query  virtualSchemaName = \"default\" formatter = \"TSV\" header = \"0\" uniqueRows = \"1\" count = \"\" datasetConfigVersion = \"0.6\" >'\\\n",
    "                    '<Dataset name = \"rnorvegicus_gene_ensembl\" interface = \"default\" >' \\\n",
    "                    '<Attribute name = \"ensembl_gene_id\" />' \\\n",
    "                    '<Attribute name = \"mmusculus_homolog_ensembl_gene\" />' \\\n",
    "                    '<Attribute name = \"sscrofa_homolog_ensembl_gene\" />' \\\n",
    "                    '<Attribute name = \"ocuniculus_homolog_ensembl_gene\" />' \\\n",
    "                    '</Dataset>' \\\n",
    "                    '</Query>'\n",
    "    return make_biomart_query_url(rat_query_xml)\n",
    "\n",
    "def make_biomart_pig_orthologues_query_url():\n",
    "    pig_query_xml = '<?xml version=\"1.0\" encoding=\"UTF-8\"?>'\\\n",
    "                    '<!DOCTYPE Query>' \\\n",
    "                    '<Query  virtualSchemaName = \"default\" formatter = \"TSV\" header = \"0\" uniqueRows = \"1\" count = \"\" datasetConfigVersion = \"0.6\" >' \\\n",
    "                    '<Dataset name = \"sscrofa_gene_ensembl\" interface = \"default\" >' \\\n",
    "                    '<Attribute name = \"ensembl_gene_id\" />' \\\n",
    "                    '<Attribute name = \"mmusculus_homolog_ensembl_gene\" />' \\\n",
    "                    '<Attribute name = \"ocuniculus_homolog_ensembl_gene\" />' \\\n",
    "                    '<Attribute name = \"rnorvegicus_homolog_ensembl_gene\" />' \\\n",
    "                    '</Dataset>' \\\n",
    "                    '</Query>'\n",
    "    return make_biomart_query_url(pig_query_xml)\n",
    "\n",
    "def make_biomart_rabbit_orthologues_query_url():\n",
    "    rabbit_query_xml = '<?xml version=\"1.0\" encoding=\"UTF-8\"?>'\\\n",
    "                '<!DOCTYPE Query>'\\\n",
    "                '<Query  virtualSchemaName = \"default\" formatter = \"TSV\" header = \"0\" uniqueRows = \"1\" count = \"\" datasetConfigVersion = \"0.6\" >'\\\n",
    "                '<Dataset name = \"ocuniculus_gene_ensembl\" interface = \"default\" >'\\\n",
    "                '<Attribute name = \"ensembl_gene_id\" />'\\\n",
    "                '<Attribute name = \"mmusculus_homolog_ensembl_gene\" />'\\\n",
    "                '<Attribute name = \"sscrofa_homolog_ensembl_gene\" />'\\\n",
    "                '<Attribute name = \"rnorvegicus_homolog_ensembl_gene\" />' \\\n",
    "                '</Dataset>' \\\n",
    "                '</Query>'\n",
    "    return make_biomart_query_url(rabbit_query_xml)\n",
    "\n",
    "\n",
    "biomart_path = get_data_path(\"BioMart\")\n",
    "\n",
    "for species, species_id in species_id_map.items():\n",
    "    genes_tsv_path = biomart_path.joinpath(f\"{species}_genes.tsv\")\n",
    "\n",
    "    if not genes_tsv_path.exists():\n",
    "        biomart_url = make_biomart_genes_query_url(species_id)\n",
    "        fetch_file(biomart_url, genes_tsv_path.parent, rename_to=genes_tsv_path.name)\n",
    "\n",
    "fetch_file(make_biomart_mouse_orthologues_query_url(), biomart_path, rename_to=\"mouse_orthologues.tsv\")\n",
    "fetch_file(make_biomart_rat_orthologues_query_url(), biomart_path, rename_to=\"rat_orthologues.tsv\")\n",
    "fetch_file(make_biomart_pig_orthologues_query_url(), biomart_path, rename_to=\"pig_orthologues.tsv\")\n",
    "fetch_file(make_biomart_rabbit_orthologues_query_url(), biomart_path, rename_to=\"rabbit_orthologues.tsv\")\n",
    "\n",
    "print(\"All done\")"
   ]
  },
  {
   "cell_type": "code",
   "execution_count": null,
   "metadata": {},
   "outputs": [],
   "source": []
  }
 ],
 "metadata": {
  "jupytext": {
   "formats": "ipynb,.ipynb.py:percent"
  },
  "kernelspec": {
   "display_name": "Python 3",
   "language": "python",
   "name": "python3"
  },
  "language_info": {
   "codemirror_mode": {
    "name": "ipython",
    "version": 3
   },
   "file_extension": ".py",
   "mimetype": "text/x-python",
   "name": "python",
   "nbconvert_exporter": "python",
   "pygments_lexer": "ipython3",
   "version": "3.8.5"
  }
 },
 "nbformat": 4,
 "nbformat_minor": 4
}
