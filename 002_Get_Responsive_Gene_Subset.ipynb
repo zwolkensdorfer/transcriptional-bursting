{
 "cells": [
  {
   "cell_type": "code",
   "execution_count": 1,
   "metadata": {},
   "outputs": [],
   "source": [
    "import anndata\n",
    "import pandas as pd\n",
    "import os\n",
    "\n",
    "from rp2.paths import get_data_path, get_scripts_path\n",
    "\n",
    "from pathlib import Path\n",
    "\n",
    "import numpy as np\n",
    "import pandas as pd\n",
    "from venn import venn\n",
    "import matplotlib as plt\n",
    "import gzip\n",
    "\n",
    "from rp2 import create_folder, working_directory, hagai_2018, notebooks\n",
    "from rp2.paths import get_scripts_path, get_txburst_results_csv_path, get_data_path, get_output_path\n",
    "from rp2 import data\n",
    "\n",
    "from evolution import Orthologues, Load_data, Load_counts\n",
    "\n",
    "nb = notebooks.initialise_environment(\"Get_Responsive_Gene_Subset\",\n",
    "    dependencies=[\"Obtain_Data\"],\n",
    "     )"
   ]
  },
  {
   "cell_type": "code",
   "execution_count": 2,
   "metadata": {},
   "outputs": [],
   "source": [
    "arrayexp_path = get_data_path(\"ArrayExpress\")\n",
    "biomart_path = get_data_path(\"BioMart\") \n",
    "hagai_path = get_data_path(\"hagai_2018\") "
   ]
  },
  {
   "cell_type": "markdown",
   "metadata": {},
   "source": [
    "Convert each gene ID to its orthologue in the mouse."
   ]
  },
  {
   "cell_type": "code",
   "execution_count": 3,
   "metadata": {},
   "outputs": [],
   "source": [
    "rat_orthologues_file_path = get_data_path(\"BioMart\",\"rat_orthologues.tsv\")\n",
    "\n",
    "with open(rat_orthologues_file_path) as rat_orthologues_file:\n",
    "    lines = rat_orthologues_file.readlines()\n",
    "\n",
    "rat_gene_list =[]\n",
    "mouse_gene_list =[]\n",
    "\n",
    "for line in lines:\n",
    "    orthologues = line.split(\"\\t\")\n",
    "    rat_gene = orthologues[0]\n",
    "    rat_gene_list.append(rat_gene)\n",
    "    \n",
    "    mouse_gene = orthologues[1]\n",
    "    mouse_gene_list.append(mouse_gene)\n",
    "\n",
    "mouse_to_rat_gene_ID = {}\n",
    "\n",
    "mouse_to_rat_gene_ID = {mouse_gene_list[i]:rat_gene_list[i] for i in range (len(mouse_gene_list))}"
   ]
  },
  {
   "cell_type": "code",
   "execution_count": 4,
   "metadata": {},
   "outputs": [
    {
     "name": "stdout",
     "output_type": "stream",
     "text": [
      "Number of genes studied in the rat: 22277\n",
      "Number of rat genes with orthologue in the mouse: 20249\n"
     ]
    }
   ],
   "source": [
    "rat_genes_studied_path = get_data_path(\"ArrayExpress\", \"E-MTAB-6754.processed.2\", \"rat1_lps2_filtered_by_cell_cluster0.txt.gz\")\n",
    "\n",
    "with gzip.open(rat_genes_studied_path, 'rt') as rat_genes_file:\n",
    "        lines = rat_genes_file.readlines()\n",
    "\n",
    "rat_IDs_studied =[]\n",
    "\n",
    "for line in lines:\n",
    "    data = line.split()\n",
    "    rat_ID = data[0]\n",
    "    rat_IDs_studied.append(rat_ID)\n",
    "    \n",
    "rat_IDs_studied.pop(0)\n",
    "rat_gene_dict ={}\n",
    "\n",
    "for key in mouse_to_rat_gene_ID.keys():\n",
    "    for rat_ID in rat_IDs_studied:\n",
    "        if mouse_to_rat_gene_ID[key] == rat_ID:\n",
    "            rat_gene_dict[key] = rat_ID\n",
    "            \n",
    "print(\"Number of genes studied in the rat:\", len(rat_IDs_studied))\n",
    "print(\"Number of rat genes with orthologue in the mouse:\", len(rat_gene_dict.values()))"
   ]
  },
  {
   "cell_type": "code",
   "execution_count": 5,
   "metadata": {},
   "outputs": [],
   "source": [
    "pig_orthologues_file_path = get_data_path(\"BioMart\",\"pig_orthologues.tsv\")\n",
    "\n",
    "with open(pig_orthologues_file_path) as pig_orthologues_file:\n",
    "    lines = pig_orthologues_file.readlines()\n",
    "\n",
    "pig_gene_list =[]\n",
    "mouse_gene_list =[]\n",
    "\n",
    "for line in lines:\n",
    "    orthologues = line.split(\"\\t\")\n",
    "    pig_gene = orthologues[0]\n",
    "    pig_gene_list.append(pig_gene)\n",
    "    \n",
    "    mouse_gene = orthologues[1]\n",
    "    mouse_gene_list.append(mouse_gene)\n",
    "\n",
    "mouse_to_pig_gene_ID = {}\n",
    "mouse_to_pig_gene_ID = {mouse_gene_list[i]:pig_gene_list[i] for i in range (len(mouse_gene_list))}"
   ]
  },
  {
   "cell_type": "code",
   "execution_count": 6,
   "metadata": {},
   "outputs": [
    {
     "name": "stdout",
     "output_type": "stream",
     "text": [
      "Number of genes studied in the pig: 21607\n",
      "Number of pig genes with orthologue in the mouse: 17242\n"
     ]
    }
   ],
   "source": [
    "pig_genes_studied_path = get_data_path(\"ArrayExpress\", \"E-MTAB-6754.processed.2\", \"pig1_lps2_filtered_by_cell_cluster0.txt.gz\")\n",
    "\n",
    "with gzip.open(pig_genes_studied_path, 'rt') as pig_genes_file:\n",
    "    lines = pig_genes_file.readlines()\n",
    "\n",
    "pig_IDs_studied =[]\n",
    "\n",
    "for line in lines:\n",
    "    data = line.split()\n",
    "    pig_ID = data[0]\n",
    "    pig_IDs_studied.append(pig_ID)\n",
    "\n",
    "pig_IDs_studied.pop(0)\n",
    "    \n",
    "pig_gene_dict ={}\n",
    "\n",
    "for key in mouse_to_pig_gene_ID.keys():\n",
    "    for pig_ID in pig_IDs_studied:\n",
    "        if mouse_to_pig_gene_ID[key] == pig_ID:\n",
    "            pig_gene_dict[key] = pig_ID \n",
    "\n",
    "print(\"Number of genes studied in the pig:\", len(pig_IDs_studied))\n",
    "print(\"Number of pig genes with orthologue in the mouse:\", len(pig_gene_dict.values()))"
   ]
  },
  {
   "cell_type": "code",
   "execution_count": 7,
   "metadata": {},
   "outputs": [],
   "source": [
    "rabbit_orthologues_file_path = get_data_path(\"BioMart\",\"rabbit_orthologues.tsv\")\n",
    "\n",
    "with open(rabbit_orthologues_file_path) as rabbit_orthologues_file:\n",
    "    lines = rabbit_orthologues_file.readlines()\n",
    "\n",
    "rabbit_gene_list =[]\n",
    "mouse_gene_list =[]\n",
    "\n",
    "for line in lines:\n",
    "    orthologues = line.split(\"\\t\")\n",
    "    rabbit_gene = orthologues[0]\n",
    "    rabbit_gene_list.append(rabbit_gene)\n",
    "    \n",
    "    mouse_gene = orthologues[1]\n",
    "    mouse_gene_list.append(mouse_gene)\n",
    "\n",
    "mouse_to_rabbit_gene_ID = {}\n",
    "\n",
    "mouse_to_rabbit_gene_ID = {mouse_gene_list[i]:rabbit_gene_list[i] for i in range (len(mouse_gene_list))}"
   ]
  },
  {
   "cell_type": "code",
   "execution_count": 8,
   "metadata": {},
   "outputs": [
    {
     "name": "stdout",
     "output_type": "stream",
     "text": [
      "Number of genes studied in the rabbit: 21607\n",
      "Number of rabbit genes with orthologue in the mouse: 17242\n"
     ]
    }
   ],
   "source": [
    "rabbit_genes_studied_path = get_data_path(\"ArrayExpress\", \"E-MTAB-6754.processed.2\", \"rabbit1_lps2_filtered_by_cell_cluster0.txt.gz\")\n",
    "\n",
    "with gzip.open(rabbit_genes_studied_path, 'rt') as rabbit_genes_file:\n",
    "    lines = rabbit_genes_file.readlines()\n",
    "\n",
    "rabbit_IDs_studied =[]\n",
    "\n",
    "for line in lines:\n",
    "    data = line.split()\n",
    "    rabbit_ID = data[0]\n",
    "    rabbit_IDs_studied.append(rabbit_ID)\n",
    "\n",
    "rabbit_IDs_studied.pop(0)\n",
    "\n",
    "rabbit_gene_dict ={}\n",
    "\n",
    "for key in mouse_to_rabbit_gene_ID.keys():\n",
    "    for rabbit_ID in rabbit_IDs_studied:\n",
    "        if mouse_to_rabbit_gene_ID[key] == rabbit_ID:\n",
    "            rabbit_gene_dict[key] = rabbit_ID\n",
    "\n",
    "print(\"Number of genes studied in the rabbit:\", len(pig_IDs_studied))\n",
    "print(\"Number of rabbit genes with orthologue in the mouse:\", len(pig_gene_dict.values()))"
   ]
  },
  {
   "cell_type": "code",
   "execution_count": 9,
   "metadata": {},
   "outputs": [],
   "source": [
    "hagai_data_path = get_data_path(\"hagai_2018\", \"41586_2018_657_MOESM4_ESM.xlsx\")\n",
    "responsive_genes_df = pd.read_excel(hagai_data_path, \"phagocytes_FC_diveregnce\")"
   ]
  },
  {
   "cell_type": "code",
   "execution_count": 10,
   "metadata": {},
   "outputs": [],
   "source": [
    "responsive_genes_df = responsive_genes_df.rename(columns={\"gene\": \"mouse_gene\"})\n",
    "\n",
    "mouse_IDs = responsive_genes_df[\"mouse_gene\"]\n",
    "\n",
    "rat_IDs = []\n",
    "\n",
    "for ID in mouse_IDs:\n",
    "    if ID in rat_gene_dict.keys():\n",
    "        rat_IDs.append(rat_gene_dict[ID])"
   ]
  },
  {
   "cell_type": "code",
   "execution_count": 11,
   "metadata": {},
   "outputs": [],
   "source": [
    "responsive_genes_df['rat_gene'] = rat_IDs"
   ]
  },
  {
   "cell_type": "code",
   "execution_count": 12,
   "metadata": {},
   "outputs": [],
   "source": [
    "pig_IDs = []\n",
    "\n",
    "for ID in mouse_IDs:\n",
    "    if ID in pig_gene_dict.keys():\n",
    "        pig_IDs.append(pig_gene_dict[ID])\n",
    "\n",
    "responsive_genes_df['pig_gene'] = pig_IDs"
   ]
  },
  {
   "cell_type": "code",
   "execution_count": 13,
   "metadata": {},
   "outputs": [],
   "source": [
    "rabbit_IDs = []\n",
    "\n",
    "for ID in mouse_IDs:\n",
    "    if ID in rabbit_gene_dict.keys():\n",
    "        rabbit_IDs.append(rabbit_gene_dict[ID])\n",
    "\n",
    "responsive_genes_df['rabbit_gene'] = rabbit_IDs"
   ]
  },
  {
   "cell_type": "code",
   "execution_count": 14,
   "metadata": {},
   "outputs": [],
   "source": [
    "responsive_genes_df = responsive_genes_df [[\"mouse_gene\", \"rat_gene\", \"pig_gene\", \"rabbit_gene\", \"mouse_log2FoldChange\", \"mouse_padj\",\n",
    "                                           \"rat_log2FoldChange\", \"rat_padj\", \"pig_log2FoldChange\", \"pig_padj\", \"rabbit_log2FoldChange\",\n",
    "                                           \"rabbit_padj\", \"response_divergence\"]]"
   ]
  },
  {
   "cell_type": "code",
   "execution_count": 15,
   "metadata": {},
   "outputs": [
    {
     "name": "stdout",
     "output_type": "stream",
     "text": [
      "Output file: C:\\Users\\wolke\\Documents\\Code\\Output\\Responsive_genes\\responsive_genes_divergence.xlsx created.\n"
     ]
    }
   ],
   "source": [
    "output_path = get_output_path()\n",
    "\n",
    "if not os.path.exists(f\"{output_path}\\\\Responsive_genes\"):\n",
    "    os.makedirs(f\"{output_path}\\\\Responsive_genes\")\n",
    "\n",
    "filename = \"responsive_genes_divergence.xlsx\"\n",
    "path = str(get_output_path(\"Responsive_genes\")) + \"\\\\\" + filename\n",
    "\n",
    "with pd.ExcelWriter(path) as writer:\n",
    "    responsive_genes_df.to_excel(writer)\n",
    "    \n",
    "print(\"Output file:\", path, \"created.\")"
   ]
  },
  {
   "cell_type": "code",
   "execution_count": 16,
   "metadata": {},
   "outputs": [
    {
     "name": "stdout",
     "output_type": "stream",
     "text": [
      "Analysis specifies 2,336 genes\n"
     ]
    }
   ],
   "source": [
    "mouse_analysis = Orthologues.create_default_mouse_analysis()\n",
    "\n",
    "print(f\"Analysis specifies {len(mouse_analysis.gene_ids):,} genes\")"
   ]
  },
  {
   "cell_type": "code",
   "execution_count": 17,
   "metadata": {},
   "outputs": [
    {
     "name": "stdout",
     "output_type": "stream",
     "text": [
      "Analysis specifies 2,586 genes\n"
     ]
    }
   ],
   "source": [
    "rat_analysis = Orthologues.create_default_rat_analysis()\n",
    "\n",
    "print(f\"Analysis specifies {len(rat_analysis.gene_ids):,} genes\")"
   ]
  },
  {
   "cell_type": "code",
   "execution_count": 18,
   "metadata": {},
   "outputs": [
    {
     "name": "stdout",
     "output_type": "stream",
     "text": [
      "Analysis specifies 1,892 genes\n"
     ]
    }
   ],
   "source": [
    "pig_analysis = Orthologues.create_default_pig_analysis()\n",
    "\n",
    "print(f\"Analysis specifies {len(pig_analysis.gene_ids):,} genes\")"
   ]
  },
  {
   "cell_type": "code",
   "execution_count": 19,
   "metadata": {},
   "outputs": [
    {
     "name": "stdout",
     "output_type": "stream",
     "text": [
      "Analysis specifies 859 genes\n"
     ]
    }
   ],
   "source": [
    "rabbit_analysis = Orthologues.create_default_rabbit_analysis()\n",
    "\n",
    "print(f\"Analysis specifies {len(rabbit_analysis.gene_ids):,} genes\")"
   ]
  },
  {
   "cell_type": "code",
   "execution_count": 20,
   "metadata": {},
   "outputs": [],
   "source": [
    "mouse_gene_IDs = mouse_analysis.gene_ids"
   ]
  },
  {
   "cell_type": "code",
   "execution_count": 21,
   "metadata": {},
   "outputs": [],
   "source": [
    "rat_key_list = list(rat_gene_dict.keys())\n",
    "rat_values_list = list(rat_gene_dict.values())\n",
    "\n",
    "rat_gene_IDs = rat_analysis.gene_ids\n",
    "\n",
    "mouse_orthologues_for_rat = []\n",
    "\n",
    "for gene in rat_gene_IDs:\n",
    "    if gene in rat_values_list: \n",
    "        position = rat_values_list.index(gene)\n",
    "        key = rat_key_list[position]\n",
    "        mouse_orthologues_for_rat.append(key)    "
   ]
  },
  {
   "cell_type": "code",
   "execution_count": 22,
   "metadata": {},
   "outputs": [],
   "source": [
    "pig_key_list = list(pig_gene_dict.keys())\n",
    "pig_values_list = list(pig_gene_dict.values())\n",
    "\n",
    "pig_gene_IDs = pig_analysis.gene_ids\n",
    "\n",
    "mouse_orthologues_for_pig = []\n",
    "\n",
    "for gene in pig_gene_IDs:\n",
    "    if gene in pig_values_list: \n",
    "        position = pig_values_list.index(gene)\n",
    "        key = pig_key_list[position]\n",
    "        mouse_orthologues_for_pig.append(key)"
   ]
  },
  {
   "cell_type": "code",
   "execution_count": 23,
   "metadata": {},
   "outputs": [],
   "source": [
    "rabbit_key_list = list(rabbit_gene_dict.keys())\n",
    "rabbit_values_list = list(rabbit_gene_dict.values())\n",
    "\n",
    "rabbit_gene_IDs = rabbit_analysis.gene_ids\n",
    "\n",
    "mouse_orthologues_for_rabbit = []\n",
    "\n",
    "for gene in rabbit_gene_IDs:\n",
    "    if gene in rabbit_values_list: \n",
    "        position = rabbit_values_list.index(gene)\n",
    "        key = rabbit_key_list[position]\n",
    "        mouse_orthologues_for_rabbit.append(key)"
   ]
  },
  {
   "cell_type": "markdown",
   "metadata": {},
   "source": [
    "Find genes with one-to-one orthologues responsive in all four species. These genes will form the subset for further analyses."
   ]
  },
  {
   "cell_type": "code",
   "execution_count": 24,
   "metadata": {},
   "outputs": [
    {
     "name": "stdout",
     "output_type": "stream",
     "text": [
      "Number of genes responsive in all species:  218\n"
     ]
    }
   ],
   "source": [
    "common_genes = list(set.intersection(*map(set, [mouse_gene_IDs, mouse_orthologues_for_rat, \n",
    "                                                mouse_orthologues_for_pig, mouse_orthologues_for_rabbit])))\n",
    "\n",
    "print(\"Number of genes responsive in all species: \", len(common_genes))"
   ]
  },
  {
   "cell_type": "code",
   "execution_count": 25,
   "metadata": {},
   "outputs": [
    {
     "data": {
      "text/plain": [
       "<AxesSubplot:>"
      ]
     },
     "execution_count": 25,
     "metadata": {},
     "output_type": "execute_result"
    },
    {
     "data": {
      "image/png": "[encoded data removed]",
      "text/plain": [
       "<Figure size 576x576 with 1 Axes>"
      ]
     },
     "metadata": {},
     "output_type": "display_data"
    }
   ],
   "source": [
    "mouse_gene_set = set(mouse_gene_IDs)\n",
    "rat_gene_set = set(mouse_orthologues_for_rat)\n",
    "pig_gene_set = set(mouse_orthologues_for_pig)\n",
    "rabbit_gene_set = set(mouse_orthologues_for_rabbit)\n",
    "\n",
    "all_responsive_genes = {\n",
    "    \"mouse\": mouse_gene_set, \"rat\": rat_gene_set, \"pig\": pig_gene_set, \"rabbit\": rabbit_gene_set\n",
    "}\n",
    "venn(all_responsive_genes)"
   ]
  },
  {
   "cell_type": "code",
   "execution_count": 27,
   "metadata": {},
   "outputs": [
    {
     "name": "stdout",
     "output_type": "stream",
     "text": [
      "Output file created here: C:\\Users\\wolke\\Documents\\Code\\Output\\Responsive_genes\\responsive_gene_subset.xlsx\n"
     ]
    }
   ],
   "source": [
    "analysis_genes_df = pd.DataFrame(common_genes, columns= [\"all_4_responsive\"])\n",
    "\n",
    "filename = \"responsive_gene_subset.xlsx\"\n",
    "path = str(get_output_path(\"Responsive_genes\")) + \"\\\\\" + filename\n",
    "\n",
    "with pd.ExcelWriter(path) as writer:\n",
    "    analysis_genes_df.to_excel(writer)\n",
    "    \n",
    "print(\"Output file created here:\", path)"
   ]
  },
  {
   "cell_type": "code",
   "execution_count": 28,
   "metadata": {},
   "outputs": [
    {
     "name": "stdout",
     "output_type": "stream",
     "text": [
      "Output file created here: C:\\Users\\wolke\\Documents\\Code\\Output\\Responsive_genes\\responsive_analysis_genes.xlsx\n"
     ]
    }
   ],
   "source": [
    "genes_for_analysis_subset_df = Load_data.load_analysis_genes()\n",
    "\n",
    "\n",
    "gene_list = list(genes_for_analysis_subset_df.gene)\n",
    "all_responsive = []\n",
    "\n",
    "for gene in gene_list:\n",
    "    if gene in common_genes:\n",
    "        all_responsive.append(\"TRUE\")\n",
    "    else:\n",
    "        all_responsive.append(\"FALSE\")\n",
    "        \n",
    "\n",
    "genes_for_analysis_subset_df [\"responsive_in_all\"] = all_responsive\n",
    "\n",
    "filename = \"responsive_analysis_genes.xlsx\"\n",
    "path = str(get_output_path(\"Responsive_genes\")) + \"\\\\\" + filename\n",
    "\n",
    "with pd.ExcelWriter(path) as writer:\n",
    "    genes_for_analysis_subset_df.to_excel(writer)\n",
    "    \n",
    "print(\"Output file created here:\", path)"
   ]
  },
  {
   "cell_type": "code",
   "execution_count": null,
   "metadata": {},
   "outputs": [],
   "source": []
  }
 ],
 "metadata": {
  "kernelspec": {
   "display_name": "Python 3",
   "language": "python",
   "name": "python3"
  },
  "language_info": {
   "codemirror_mode": {
    "name": "ipython",
    "version": 3
   },
   "file_extension": ".py",
   "mimetype": "text/x-python",
   "name": "python",
   "nbconvert_exporter": "python",
   "pygments_lexer": "ipython3",
   "version": "3.8.5"
  }
 },
 "nbformat": 4,
 "nbformat_minor": 4
}
